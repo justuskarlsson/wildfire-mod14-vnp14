{
 "cells": [
  {
   "cell_type": "code",
   "execution_count": null,
   "metadata": {},
   "outputs": [],
   "source": [
    "# Test that it works somewhat\n",
    "import h5py\n",
    "from matplotlib.axes import Axes\n",
    "from wildfire.data_types import *\n",
    "from wildfire.data_utils import *\n",
    "from wildfire.training_utils import *\n",
    "from matplotlib.axes import Axes\n",
    "import matplotlib.pyplot as plt\n",
    "\n",
    "def plot_metrics(ax: Axes, run_dir: str, key: str, label: str, color: str):\n",
    "    \"\"\"Plot validation metrics from multiple training runs.\n",
    "    \n",
    "    Args:\n",
    "        ax: Matplotlib axes to plot on\n",
    "        run_dir: Base directory containing the run folders\n",
    "        key: Metric key to plot from validation_metrics.json\n",
    "        label: Label prefix for the legend\n",
    "        color: Base color for the plots\n",
    "    \"\"\"\n",
    "    paths = sorted(glob(f\"{run_dir}_*/validation_metrics.json\"))\n",
    "    files = [json_load(p) for p in paths]\n",
    "\n",
    "    # Convert color string to RGBA\n",
    "    runs = []\n",
    "    for i, by_epoch in enumerate(files):\n",
    "        vals = [m[key] for m in by_epoch]\n",
    "        runs.append(vals)\n",
    "    mean = np.mean(runs, axis=0)\n",
    "    std = np.std(runs, axis=0)\n",
    "    x = np.arange(len(mean))\n",
    "    plt.plot(x, mean, label=label, color=color)\n",
    "    plt.fill_between(x, mean - std, mean + std, color=color, alpha=0.2)  # Std shading\n",
    "\n",
    "\n",
    "\n",
    "fig, ax = plt.subplots()\n",
    "# eval on modis\n",
    "modis_dir = \"/proj/cvl/users/x_juska/data/wildfire/runs/97\" # main, 0\n",
    "viirs_dir = \"/proj/cvl/users/x_juska/data/wildfire/runs/104\" # 1\n",
    "# eval on viirs\n",
    "# modis_dir = \"/proj/cvl/users/x_juska/data/wildfire/runs/64\" # 0\n",
    "# viirs_dir = \"/proj/cvl/users/x_juska/data/wildfire/runs/51\" # main, 1\n",
    "\n",
    "plot_metrics(ax, modis_dir, \"0.5/iou\", \"MOD14\", \"red\")\n",
    "plot_metrics(ax, viirs_dir, \"0.5/iou\", \"VNP14\", \"blue\")\n",
    "ax.set_xlabel(\"Epoch\")\n",
    "ax.set_ylabel(\"IoU [%]\")\n",
    "ax.set_title(\"Validation IoU across 5 runs\")\n",
    "ax.legend()\n",
    "out_path = os.path.join(config.root_path, \"figures\", \"validation_iou.pdf\")\n",
    "fig.savefig(out_path, dpi=150)\n",
    "plt.show()\n",
    "print(out_path)\n"
   ]
  }
 ],
 "metadata": {
  "kernelspec": {
   "display_name": "Python 3",
   "language": "python",
   "name": "python3"
  },
  "language_info": {
   "name": "python",
   "version": "3.10.16"
  }
 },
 "nbformat": 4,
 "nbformat_minor": 2
}
