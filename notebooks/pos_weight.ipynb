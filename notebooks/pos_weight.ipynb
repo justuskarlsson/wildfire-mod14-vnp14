{
 "cells": [
  {
   "cell_type": "code",
   "execution_count": null,
   "metadata": {
    "vscode": {
     "languageId": "plaintext"
    }
   },
   "outputs": [],
   "source": [
    "# Test that it works somewhat\n",
    "import h5py\n",
    "from matplotlib.axes import Axes\n",
    "from wildfire.data_types import *\n",
    "from wildfire.data_utils import *\n",
    "from wildfire.training_utils import *\n",
    "from matplotlib.axes import Axes\n",
    "import matplotlib.pyplot as plt\n",
    "\n",
    "def plot_metrics(ax: Axes, run_dir: str, key: str, only_modis: bool, only_weight: bool = False):\n",
    "    paths = sorted(glob(f\"{run_dir}_*/validation_metrics.json\"))\n",
    "    config_paths = sorted(glob(f\"{run_dir}_*/config.json\"))\n",
    "    files = [json_load(p) for p in paths]\n",
    "    config = json_load(config_paths[0])\n",
    "    if only_weight:\n",
    "        return config[\"pos_weight\"]\n",
    "    run_id = os.path.basename(run_dir)\n",
    "    sensor = \"MOD14\" if config[\"is_modis\"] else \"VNP14\"\n",
    "    label = f\"w={int(config['pos_weight'])}\"\n",
    "    if config[\"is_modis\"] != only_modis:\n",
    "        return\n",
    "    # Convert color string to RGBA\n",
    "    runs = []\n",
    "    for i, by_epoch in enumerate(files):\n",
    "        vals = [m[key] for m in by_epoch]\n",
    "        runs.append(vals)\n",
    "    mean = np.mean(runs, axis=0)\n",
    "    std = np.std(runs, axis=0)\n",
    "    x = np.arange(len(mean))\n",
    "    ax.plot(x, mean, label=label)\n",
    "    ax.fill_between(x, mean - std, mean + std, alpha=0.1)  # Std shading\n",
    "\n",
    "\n",
    "\n",
    "ids = list(range(53, 63))\n",
    "for only_modis in [True, False]:\n",
    "    fig, ax = plt.subplots()\n",
    "    items = []\n",
    "    for run_id in ids:\n",
    "        run_dir = config.runs_path + f\"/{run_id}\"\n",
    "        weight = plot_metrics(ax, run_dir, \"0.5/iou\", only_modis, only_weight=True)\n",
    "        items.append((weight, run_id))\n",
    "    items.sort()\n",
    "    for _, run_id in items:\n",
    "        run_dir = config.runs_path + f\"/{run_id}\"\n",
    "        plot_metrics(ax, run_dir, \"0.5/iou\", only_modis)\n",
    "    ax.set_xlabel(\"Epoch\")\n",
    "    ax.set_ylabel(\"IoU [%]\")\n",
    "    sensor = \"MOD14\" if only_modis else \"VNP14\"\n",
    "    ax.set_title(f\"Validation IoU across 5 runs ({sensor})\")\n",
    "    ax.legend(loc='lower right')\n",
    "    out_path = os.path.join(config.root_path, \"figures\", f\"ablation_pos_weight_{sensor}.pdf\")\n",
    "    fig.savefig(out_path, dpi=150)\n",
    "    plt.show()\n",
    "    print(out_path)\n"
   ]
  }
 ],
 "metadata": {
  "language_info": {
   "name": "python"
  }
 },
 "nbformat": 4,
 "nbformat_minor": 2
}
